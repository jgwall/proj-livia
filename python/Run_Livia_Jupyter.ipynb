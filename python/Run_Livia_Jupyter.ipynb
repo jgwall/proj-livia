{
 "cells": [
  {
   "cell_type": "code",
   "execution_count": 4,
   "metadata": {},
   "outputs": [
    {
     "name": "stdout",
     "output_type": "stream",
     "text": [
      "Generation 0: Average population fitness is 0.504426804745939\n",
      "Generation 100: Average population fitness is 0.5608075240078809\n",
      "Generation 200: Average population fitness is 0.5944093407921053\n",
      "Generation 300: Average population fitness is 0.6266685521217069\n",
      "Generation 400: Average population fitness is 0.6565759238691539\n",
      "Generation 500: Average population fitness is 0.6870632343356005\n",
      "Generation 600: Average population fitness is 0.7159155503450705\n",
      "Generation 700: Average population fitness is 0.7426410115262451\n",
      "Generation 800: Average population fitness is 0.7673971159204299\n",
      "Generation 900: Average population fitness is 0.7924524427077309\n",
      "Final image has size (10, 10, 3)\n",
      "\tChanged to <PIL.Image.Image image mode=RGB size=10x10 at 0x7F6B60DAA780>\n"
     ]
    },
    {
     "data": {
      "image/png": "[encoded data removed]",
      "text/plain": [
       "<Figure size 432x288 with 1 Axes>"
      ]
     },
     "metadata": {
      "needs_background": "light"
     },
     "output_type": "display_data"
    }
   ],
   "source": [
    "%matplotlib inline\n",
    "import livia\n",
    "import matplotlib.pyplot as plt\n",
    "import numpy as np\n",
    "from PIL import Image, ImageOps\n",
    "\n",
    "\n",
    "target = Image.open(\"../smiley_small.png\")\n",
    "#target = ImageOps.grayscale(target)\n",
    "\n",
    "# Test evolution wrapper\n",
    "mytest = livia.evolve_images(target,\n",
    "                               popsize=10,\n",
    "                               selection=0.1,\n",
    "                               mutation_rate=0.1,\n",
    "                               mutation_sd=0.01,\n",
    "                               generations=1000,\n",
    "                               gen_interval=100,\n",
    "                               verbose=True,\n",
    "                               #outprefix=\"tmp/test\",\n",
    "                               plot_intermediate_images = True,\n",
    "                               seed=1 )\n",
    "\n",
    "\n",
    "#plt.plot(np.array(mytest['avg_fitness']))\n",
    "x=plt.imshow(mytest['avg_image'])\n"
   ]
  },
  {
   "cell_type": "code",
   "execution_count": null,
   "metadata": {},
   "outputs": [],
   "source": []
  }
 ],
 "metadata": {
  "kernelspec": {
   "display_name": "Python 3",
   "language": "python",
   "name": "python3"
  },
  "language_info": {
   "codemirror_mode": {
    "name": "ipython",
    "version": 3
   },
   "file_extension": ".py",
   "mimetype": "text/x-python",
   "name": "python",
   "nbconvert_exporter": "python",
   "pygments_lexer": "ipython3",
   "version": "3.5.2"
  }
 },
 "nbformat": 4,
 "nbformat_minor": 4
}
